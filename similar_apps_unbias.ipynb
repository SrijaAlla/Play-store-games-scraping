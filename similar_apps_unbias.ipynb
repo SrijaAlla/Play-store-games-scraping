{
  "nbformat": 4,
  "nbformat_minor": 0,
  "metadata": {
    "colab": {
      "provenance": []
    },
    "kernelspec": {
      "name": "python3",
      "display_name": "Python 3"
    },
    "language_info": {
      "name": "python"
    },
    "accelerator": "GPU"
  },
  "cells": [
    {
      "cell_type": "code",
      "metadata": {
        "colab": {
          "base_uri": "https://localhost:8080/"
        },
        "id": "Z_SdlerXUpDp",
        "outputId": "4cb2f06f-3c02-4e1b-f1bf-5508c647184e"
      },
      "source": [
        "!nvidia-smi"
      ],
      "execution_count": null,
      "outputs": [
        {
          "output_type": "stream",
          "text": [
            "NVIDIA-SMI has failed because it couldn't communicate with the NVIDIA driver. Make sure that the latest NVIDIA driver is installed and running.\n",
            "\n"
          ],
          "name": "stdout"
        }
      ]
    },
    {
      "cell_type": "code",
      "metadata": {
        "colab": {
          "base_uri": "https://localhost:8080/"
        },
        "id": "v9grLnSqwBJ4",
        "outputId": "1c78d372-617d-4e71-e14e-e27fe878b5b3"
      },
      "source": [
        "pip install play-scraper"
      ],
      "execution_count": null,
      "outputs": [
        {
          "output_type": "stream",
          "text": [
            "Collecting play-scraper\n",
            "  Downloading https://files.pythonhosted.org/packages/28/6c/9c4223b5aac0a504729ef02272eb1c9c4c198bdbb22b025f76c6e105bd7a/play_scraper-0.6.0-py2.py3-none-any.whl\n",
            "Requirement already satisfied: beautifulsoup4>=4.6.1 in /usr/local/lib/python3.7/dist-packages (from play-scraper) (4.6.3)\n",
            "Collecting requests-futures>=0.9.7\n",
            "  Downloading https://files.pythonhosted.org/packages/47/c4/fd48d1ac5110a5457c71ac7cc4caa93da10a80b8de71112430e439bdee22/requests-futures-1.0.0.tar.gz\n",
            "Requirement already satisfied: requests[security]>=2.20.0 in /usr/local/lib/python3.7/dist-packages (from play-scraper) (2.23.0)\n",
            "Requirement already satisfied: lxml>=4.2.4 in /usr/local/lib/python3.7/dist-packages (from play-scraper) (4.2.6)\n",
            "Requirement already satisfied: idna<3,>=2.5 in /usr/local/lib/python3.7/dist-packages (from requests[security]>=2.20.0->play-scraper) (2.10)\n",
            "Requirement already satisfied: certifi>=2017.4.17 in /usr/local/lib/python3.7/dist-packages (from requests[security]>=2.20.0->play-scraper) (2021.5.30)\n",
            "Requirement already satisfied: chardet<4,>=3.0.2 in /usr/local/lib/python3.7/dist-packages (from requests[security]>=2.20.0->play-scraper) (3.0.4)\n",
            "Requirement already satisfied: urllib3!=1.25.0,!=1.25.1,<1.26,>=1.21.1 in /usr/local/lib/python3.7/dist-packages (from requests[security]>=2.20.0->play-scraper) (1.24.3)\n",
            "Collecting cryptography>=1.3.4; extra == \"security\"\n",
            "\u001b[?25l  Downloading https://files.pythonhosted.org/packages/b2/26/7af637e6a7e87258b963f1731c5982fb31cd507f0d90d91836e446955d02/cryptography-3.4.7-cp36-abi3-manylinux2014_x86_64.whl (3.2MB)\n",
            "\u001b[K     |████████████████████████████████| 3.2MB 5.7MB/s \n",
            "\u001b[?25hCollecting pyOpenSSL>=0.14; extra == \"security\"\n",
            "\u001b[?25l  Downloading https://files.pythonhosted.org/packages/b2/5e/06351ede29fd4899782ad335c2e02f1f862a887c20a3541f17c3fa1a3525/pyOpenSSL-20.0.1-py2.py3-none-any.whl (54kB)\n",
            "\u001b[K     |████████████████████████████████| 61kB 7.0MB/s \n",
            "\u001b[?25hRequirement already satisfied: cffi>=1.12 in /usr/local/lib/python3.7/dist-packages (from cryptography>=1.3.4; extra == \"security\"->requests[security]>=2.20.0->play-scraper) (1.14.5)\n",
            "Requirement already satisfied: six>=1.5.2 in /usr/local/lib/python3.7/dist-packages (from pyOpenSSL>=0.14; extra == \"security\"->requests[security]>=2.20.0->play-scraper) (1.15.0)\n",
            "Requirement already satisfied: pycparser in /usr/local/lib/python3.7/dist-packages (from cffi>=1.12->cryptography>=1.3.4; extra == \"security\"->requests[security]>=2.20.0->play-scraper) (2.20)\n",
            "Building wheels for collected packages: requests-futures\n",
            "  Building wheel for requests-futures (setup.py) ... \u001b[?25l\u001b[?25hdone\n",
            "  Created wheel for requests-futures: filename=requests_futures-1.0.0-cp37-none-any.whl size=7028 sha256=49e9ffca21b6cd18370e23960c7975a62237f554c634811d9e15121867d8d80f\n",
            "  Stored in directory: /root/.cache/pip/wheels/26/d0/f5/dc4e4a37bbe55c9acf967d2bd899152412c1e49c227f5395ff\n",
            "Successfully built requests-futures\n",
            "Installing collected packages: requests-futures, play-scraper, cryptography, pyOpenSSL\n",
            "Successfully installed cryptography-3.4.7 play-scraper-0.6.0 pyOpenSSL-20.0.1 requests-futures-1.0.0\n"
          ],
          "name": "stdout"
        }
      ]
    },
    {
      "cell_type": "code",
      "metadata": {
        "id": "o-oV_GEywJ04"
      },
      "source": [
        "import networkx as nx\n",
        "import matplotlib.pyplot as plt"
      ],
      "execution_count": null,
      "outputs": []
    },
    {
      "cell_type": "code",
      "metadata": {
        "id": "-tDcadtuwMk8"
      },
      "source": [
        "G = nx.Graph()\n",
        "edge = []"
      ],
      "execution_count": null,
      "outputs": []
    },
    {
      "cell_type": "code",
      "metadata": {
        "id": "5Qgie37rw7-l",
        "colab": {
          "base_uri": "https://localhost:8080/"
        },
        "outputId": "b0f05a2a-f97a-445f-db6c-471c4fd82ab6"
      },
      "source": [
        "import nltk\n",
        "nltk.download('punkt')\n",
        "import gensim\n",
        "import numpy as np\n",
        "from nltk.tokenize import word_tokenize, sent_tokenize"
      ],
      "execution_count": null,
      "outputs": [
        {
          "output_type": "stream",
          "text": [
            "[nltk_data] Downloading package punkt to /root/nltk_data...\n",
            "[nltk_data]   Unzipping tokenizers/punkt.zip.\n"
          ],
          "name": "stdout"
        }
      ]
    },
    {
      "cell_type": "code",
      "metadata": {
        "id": "TYfyXP3W9QF-",
        "colab": {
          "base_uri": "https://localhost:8080/"
        },
        "outputId": "094ac997-d28f-4378-a17a-60d91d670e3e"
      },
      "source": [
        "pip install google-play-scraper\n"
      ],
      "execution_count": null,
      "outputs": [
        {
          "output_type": "stream",
          "text": [
            "Collecting google-play-scraper\n",
            "\u001b[?25l  Downloading https://files.pythonhosted.org/packages/c0/de/a214aa08a68569ddb4e149f951c4978d274648de412f0809628f05c35bdf/google-play-scraper-1.0.0.tar.gz (52kB)\n",
            "\r\u001b[K     |██████▎                         | 10kB 16.0MB/s eta 0:00:01\r\u001b[K     |████████████▋                   | 20kB 19.9MB/s eta 0:00:01\r\u001b[K     |███████████████████             | 30kB 12.3MB/s eta 0:00:01\r\u001b[K     |█████████████████████████▏      | 40kB 9.7MB/s eta 0:00:01\r\u001b[K     |███████████████████████████████▌| 51kB 4.2MB/s eta 0:00:01\r\u001b[K     |████████████████████████████████| 61kB 3.2MB/s \n",
            "\u001b[?25hBuilding wheels for collected packages: google-play-scraper\n",
            "  Building wheel for google-play-scraper (setup.py) ... \u001b[?25l\u001b[?25hdone\n",
            "  Created wheel for google-play-scraper: filename=google_play_scraper-1.0.0-cp37-none-any.whl size=24086 sha256=606594f1d10c012777e7b4e76f8dff988c0b372da671449ff6f8a4d04443c24d\n",
            "  Stored in directory: /root/.cache/pip/wheels/e9/98/5a/917dd15a6f100d35a26c5f6f0ae99895ae861aff74fafa1b08\n",
            "Successfully built google-play-scraper\n",
            "Installing collected packages: google-play-scraper\n",
            "Successfully installed google-play-scraper-1.0.0\n"
          ],
          "name": "stdout"
        }
      ]
    },
    {
      "cell_type": "code",
      "metadata": {
        "id": "AFXn9QV6sIWG",
        "colab": {
          "base_uri": "https://localhost:8080/"
        },
        "outputId": "1c0cc4a5-4dbf-4b38-c4c3-8f1fe193f26a"
      },
      "source": [
        "pip install gensim"
      ],
      "execution_count": null,
      "outputs": [
        {
          "output_type": "stream",
          "text": [
            "Requirement already satisfied: gensim in /usr/local/lib/python3.7/dist-packages (3.6.0)\n",
            "Requirement already satisfied: scipy>=0.18.1 in /usr/local/lib/python3.7/dist-packages (from gensim) (1.4.1)\n",
            "Requirement already satisfied: six>=1.5.0 in /usr/local/lib/python3.7/dist-packages (from gensim) (1.15.0)\n",
            "Requirement already satisfied: numpy>=1.11.3 in /usr/local/lib/python3.7/dist-packages (from gensim) (1.19.5)\n",
            "Requirement already satisfied: smart-open>=1.2.1 in /usr/local/lib/python3.7/dist-packages (from gensim) (5.1.0)\n"
          ],
          "name": "stdout"
        }
      ]
    },
    {
      "cell_type": "code",
      "metadata": {
        "id": "AAgz4dszwey9"
      },
      "source": [
        "from google_play_scraper import app\n",
        "def get_similarity(a,b):\n",
        "  # exp = play_scraper.details(a)\n",
        "  # exp1 = play_scraper.details(b)\n",
        "\n",
        "  exp = app(a)\n",
        "  exp1 = app(b)\n",
        "\n",
        "  des_coc = exp['description']\n",
        "  des_ebp = exp1['description']\n",
        "  # print(exp['description'])\n",
        "  file_docs = []\n",
        "  tokens = sent_tokenize(des_coc)\n",
        "  for line in tokens:\n",
        "    file_docs.append(line)\n",
        "  # print(\"Number of documents:\",len(file_docs))\n",
        "  gen_docs = [[w.lower() for w in word_tokenize(text)] for text in file_docs]\n",
        "  dictionary = gensim.corpora.Dictionary(gen_docs)\n",
        "  corpus = [dictionary.doc2bow(gen_doc) for gen_doc in gen_docs]\n",
        "  tf_idf = gensim.models.TfidfModel(corpus)\n",
        "  for doc in tf_idf[corpus]:\n",
        "    # print([[dictionary[id], np.around(freq, decimals=2)] for id, freq in doc]\n",
        "    sims = gensim.similarities.Similarity('workdir/',tf_idf[corpus],num_features=len(dictionary))\n",
        "\n",
        "  tokens = sent_tokenize(des_ebp)\n",
        "  file2_docs = []\n",
        "  for line in tokens:\n",
        "        file2_docs.append(line)\n",
        "\n",
        "  avg_sims = []\n",
        "  for line in file2_docs:\n",
        "        # tokenize words\n",
        "        query_doc = [w.lower() for w in word_tokenize(line)]\n",
        "        # create bag of words\n",
        "        query_doc_bow = dictionary.doc2bow(query_doc)\n",
        "        # find similarity for each document\n",
        "        query_doc_tf_idf = tf_idf[query_doc_bow]\n",
        "        # print (document_number, document_similarity)\n",
        "        # calculate sum of similarities for each query doc\n",
        "        sum_of_sims =(np.sum(sims[query_doc_tf_idf], dtype=np.float32))\n",
        "        # calculate average of similarity for each query doc\n",
        "        avg = sum_of_sims / len(file_docs)\n",
        "        # print average of similarity for each query doc\n",
        "        # add average values into array\n",
        "        avg_sims.append(avg)\n",
        "  # calculate total average\n",
        "  total_avg = np.sum(avg_sims, dtype=np.float)\n",
        "  # round the value and multiply by 100 to format it as percentage\n",
        "  percentage_of_similarity = round(float(total_avg) * 100)\n",
        "  # if percentage is greater than 100\n",
        "  # that means documents are almost same\n",
        "  # print(\"percentage of similarity = \",percentage_of_similarity)\n",
        "  # if percentage_of_similarity >= 100:\n",
        "  #   percentage_of_similarity = 100\n",
        "\n",
        "  return percentage_of_similarity"
      ],
      "execution_count": null,
      "outputs": []
    },
    {
      "cell_type": "code",
      "metadata": {
        "id": "eTFLId3IwPrs",
        "colab": {
          "base_uri": "https://localhost:8080/"
        },
        "outputId": "53cece16-b128-4f71-f5cb-37986d4d3a33"
      },
      "source": [
        "import play_scraper\n",
        "import csv\n",
        "import re\n",
        "from itertools import combinations\n",
        "trending_apps = []\n",
        "app_url = []\n",
        "packages = []\n",
        "count = 0\n",
        "with open('top_paid.csv', 'r') as file:\n",
        "    reader = csv.reader(file)\n",
        "    for row in reader:\n",
        "        app_url.append(row[1])\n",
        "        pac = re.search( r'.*id=(.*)', row[1], re.M|re.I)\n",
        "        if pac:\n",
        "           a = pac.group(1)\n",
        "        else:\n",
        "          print(\"No match\")\n",
        "        packages.append(a)\n",
        "        trending_apps.append(row[2])\n",
        "comb = combinations(packages,2)\n",
        "for a,b in comb:\n",
        " similarity = get_similarity(a,b)\n",
        " if (similarity > 300):\n",
        "   res1 = app(a)\n",
        "   res2 = app(b)\n",
        "  #  print(res2)\n",
        "  #  if(res1['genre'] == res2['genre']):\n",
        "   edge.append((a,b,similarity))\n",
        "   print(a,b,similarity)\n",
        " else:\n",
        "  #  print('no',a,b,similarity)\n",
        "    count += 1\n",
        "print('-----------',count)\n"
      ],
      "execution_count": null,
      "outputs": [
        {
          "output_type": "stream",
          "text": [
            "/usr/local/lib/python3.7/dist-packages/gensim/similarities/docsim.py:518: FutureWarning: arrays to stack must be passed as a \"sequence\" type such as list or tuple. Support for non-sequence iterables such as generators is deprecated as of NumPy 1.16 and will raise an error in the future.\n",
            "  result = numpy.hstack(shard_results)\n"
          ],
          "name": "stderr"
        },
        {
          "output_type": "stream",
          "text": [
            "com.mojang.minecraftpe com.marmalade.monopoly 308\n",
            "com.mojang.minecraftpe com.marmalade.gol2 333\n",
            "com.mojang.minecraftpe jp.co.capcom.mhsspen 301\n",
            "com.mojang.minecraftpe com.etermax.preguntados.pro 402\n",
            "com.mojang.minecraftpe com.Zonmob.Stickman.FightingGames.ShadowOfDeath 312\n",
            "com.mojang.minecraftpe com.tresebrothers.games.startraders2 305\n",
            "com.mojang.minecraftpe com.uplayonline.youtubers 396\n",
            "com.mojang.minecraftpe air.com.flipline.papaspizzeriatogo 338\n",
            "com.chucklefish.stardewvalley com.etermax.preguntados.pro 311\n",
            "com.chucklefish.stardewvalley com.uplayonline.youtubers 313\n",
            "com.robtopx.geometryjump com.etermax.preguntados.pro 387\n",
            "com.robtopx.geometryjump com.Zonmob.Stickman.FightingGames.ShadowOfDeath 304\n",
            "com.robtopx.geometryjump com.uplayonline.youtubers 368\n",
            "com.robtopx.geometryjump air.com.flipline.papaspizzeriatogo 324\n",
            "com.sofarsogood.incredibox com.etermax.preguntados.pro 339\n",
            "com.sofarsogood.incredibox com.uplayonline.youtubers 326\n",
            "com.humble.SlayTheSpire com.marmalade.gol2 342\n",
            "com.humble.SlayTheSpire com.ironhidegames.android.ironmarines 303\n",
            "com.humble.SlayTheSpire air.com.flipline.papasfreezeriatogo 340\n",
            "com.humble.SlayTheSpire jp.co.capcom.mhsspen 309\n",
            "com.humble.SlayTheSpire com.etermax.preguntados.pro 400\n",
            "com.humble.SlayTheSpire com.Zonmob.Stickman.FightingGames.ShadowOfDeath 341\n",
            "com.humble.SlayTheSpire com.tresebrothers.games.startraders2 323\n",
            "com.humble.SlayTheSpire air.com.flipline.papassushiriatogo 321\n",
            "com.humble.SlayTheSpire com.uplayonline.youtubers 414\n",
            "com.humble.SlayTheSpire air.com.flipline.papasscooperiatogo 313\n",
            "com.humble.SlayTheSpire air.com.flipline.papasdonuteriatogo 325\n",
            "com.humble.SlayTheSpire air.com.flipline.papasbakeriatogo 305\n",
            "com.humble.SlayTheSpire air.com.flipline.papaspizzeriatogo 374\n",
            "com.humble.SlayTheSpire air.com.flipline.papasburgeriatogo 309\n",
            "com.humble.SlayTheSpire air.com.flipline.papaspancakeriatogo 319\n",
            "com.humble.SlayTheSpire air.com.flipline.papascheeseriatogo 313\n",
            "com.humble.SlayTheSpire air.com.flipline.papaspastariatogo 304\n",
            "com.humble.SlayTheSpire com.tocaboca.tocalabplants 304\n",
            "com.ninjakiwi.bloonstd5 com.marmalade.gol2 327\n",
            "com.ninjakiwi.bloonstd5 com.ironhidegames.android.ironmarines 322\n",
            "com.ninjakiwi.bloonstd5 air.com.flipline.papasfreezeriatogo 332\n",
            "com.ninjakiwi.bloonstd5 com.etermax.preguntados.pro 384\n",
            "com.ninjakiwi.bloonstd5 com.tresebrothers.games.startraders2 303\n",
            "com.ninjakiwi.bloonstd5 air.com.flipline.papassushiriatogo 318\n",
            "com.ninjakiwi.bloonstd5 com.uplayonline.youtubers 411\n",
            "com.ninjakiwi.bloonstd5 air.com.flipline.papasdonuteriatogo 326\n",
            "com.ninjakiwi.bloonstd5 com.marmalade.monopolysudoku 334\n",
            "com.ninjakiwi.bloonstd5 air.com.flipline.papasbakeriatogo 305\n",
            "com.ninjakiwi.bloonstd5 air.com.flipline.papaspizzeriatogo 379\n",
            "com.ninjakiwi.bloonstd5 air.com.flipline.papasburgeriatogo 307\n",
            "com.ninjakiwi.bloonstd5 air.com.flipline.papaspastariatogo 306\n",
            "com.ninjakiwi.bloonstd5 com.tocaboca.tocalabplants 306\n",
            "net.davidobot.mazette.snkrx com.marmalade.gol2 387\n",
            "net.davidobot.mazette.snkrx com.ironhidegames.android.ironmarines 347\n",
            "net.davidobot.mazette.snkrx com.atari.mobile.rctclassic 318\n",
            "net.davidobot.mazette.snkrx air.com.flipline.papasmochariatogo 328\n",
            "net.davidobot.mazette.snkrx com.refineryproductions_2112td 345\n",
            "net.davidobot.mazette.snkrx air.com.flipline.papasfreezeriatogo 401\n",
            "net.davidobot.mazette.snkrx jp.co.capcom.mhsspen 389\n",
            "net.davidobot.mazette.snkrx com.etermax.preguntados.pro 489\n",
            "net.davidobot.mazette.snkrx com.asmodeedigital.scythe 310\n",
            "net.davidobot.mazette.snkrx com.Zonmob.Stickman.FightingGames.ShadowOfDeath 425\n",
            "net.davidobot.mazette.snkrx com.tresebrothers.games.startraders2 372\n",
            "net.davidobot.mazette.snkrx com.square_enix.android_googleplay.chrono 344\n",
            "net.davidobot.mazette.snkrx com.bluebraingames.thehouseofdavinci 303\n",
            "net.davidobot.mazette.snkrx air.com.flipline.papassushiriatogo 365\n",
            "net.davidobot.mazette.snkrx com.uplayonline.youtubers 558\n",
            "net.davidobot.mazette.snkrx air.com.flipline.papasscooperiatogo 342\n",
            "net.davidobot.mazette.snkrx air.com.flipline.papasdonuteriatogo 373\n",
            "net.davidobot.mazette.snkrx com.turner.ttgfigures2 326\n",
            "net.davidobot.mazette.snkrx com.marmalade.monopolysudoku 337\n",
            "net.davidobot.mazette.snkrx air.com.flipline.papasbakeriatogo 341\n",
            "net.davidobot.mazette.snkrx air.com.flipline.papaspizzeriatogo 454\n",
            "net.davidobot.mazette.snkrx air.com.flipline.papasburgeriatogo 393\n",
            "net.davidobot.mazette.snkrx com.teachyourmonstertoread.tmapp 312\n",
            "net.davidobot.mazette.snkrx air.com.flipline.papaspancakeriatogo 350\n",
            "net.davidobot.mazette.snkrx air.com.flipline.papascheeseriatogo 349\n",
            "net.davidobot.mazette.snkrx com.square_enix.android_googleplay.FFVII 327\n",
            "net.davidobot.mazette.snkrx air.com.flipline.papaspastariatogo 345\n",
            "net.davidobot.mazette.snkrx com.sega.score 308\n",
            "net.davidobot.mazette.snkrx org.pbskids.dtigerexploreneighborhood 351\n",
            "net.davidobot.mazette.snkrx com.square_enix.android_googleplay.dq5 343\n",
            "net.davidobot.mazette.snkrx com.tocaboca.tocalabplants 328\n",
            "net.davidobot.mazette.snkrx air.com.flipline.papashotdoggeriatogo 348\n",
            "com.dsemu.drastic com.marmalade.gol2 305\n",
            "com.dsemu.drastic com.ironhidegames.android.ironmarines 393\n",
            "com.dsemu.drastic com.ironhidegames.android.kingdomrush4 316\n",
            "com.dsemu.drastic com.ironhidegames.android.kingdomrushorigins 327\n",
            "com.dsemu.drastic com.etermax.preguntados.pro 401\n",
            "com.dsemu.drastic com.Zonmob.Stickman.FightingGames.ShadowOfDeath 338\n",
            "com.dsemu.drastic com.tresebrothers.games.startraders2 301\n",
            "com.dsemu.drastic com.uplayonline.youtubers 401\n",
            "com.dsemu.drastic air.com.flipline.papasdonuteriatogo 306\n",
            "com.dsemu.drastic air.com.flipline.papaspizzeriatogo 334\n",
            "com.rockstargames.gtavc com.etermax.preguntados.pro 357\n",
            "com.rockstargames.gtavc com.uplayonline.youtubers 336\n",
            "com.scottgames.fnaf2 com.marmalade.gol2 316\n",
            "com.scottgames.fnaf2 com.etermax.preguntados.pro 387\n",
            "com.scottgames.fnaf2 com.Zonmob.Stickman.FightingGames.ShadowOfDeath 330\n",
            "com.scottgames.fnaf2 com.uplayonline.youtubers 381\n",
            "com.scottgames.fnaf2 air.com.flipline.papaspizzeriatogo 316\n"
          ],
          "name": "stdout"
        }
      ]
    },
    {
      "cell_type": "code",
      "metadata": {
        "id": "VYcKCWHxAsKC"
      },
      "source": [
        "print(len(edge))"
      ],
      "execution_count": null,
      "outputs": []
    },
    {
      "cell_type": "code",
      "metadata": {
        "id": "GXcUuemtxBFT"
      },
      "source": [
        "G = nx.Graph()\n",
        "G.add_edges_from(edge)"
      ],
      "execution_count": null,
      "outputs": []
    },
    {
      "cell_type": "code",
      "metadata": {
        "id": "-su1JbaOcr6y"
      },
      "source": [
        "print(nx.info(G))"
      ],
      "execution_count": null,
      "outputs": []
    },
    {
      "cell_type": "code",
      "metadata": {
        "id": "vh8sqGYf0G__"
      },
      "source": [
        "plt.figure(figsize=(50,50))\n",
        "nx.draw_spring(G, edge_color='grey')"
      ],
      "execution_count": null,
      "outputs": []
    },
    {
      "cell_type": "code",
      "metadata": {
        "id": "4DRI1f421ADI"
      },
      "source": [
        "a = G.degree()\n",
        "print(a)"
      ],
      "execution_count": null,
      "outputs": []
    },
    {
      "cell_type": "code",
      "metadata": {
        "id": "r1eLtggT2Ubi"
      },
      "source": [
        "print(edge[0],edge[723],edge[342])"
      ],
      "execution_count": null,
      "outputs": []
    },
    {
      "cell_type": "code",
      "metadata": {
        "id": "oeko-cD2ci5P"
      },
      "source": [
        "nx.write_edgelist(G,'edgelist_sim_1000_200.txt')"
      ],
      "execution_count": null,
      "outputs": []
    }
  ]
}